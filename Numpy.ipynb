{
 "cells": [
  {
   "cell_type": "markdown",
   "id": "0d0bd3a8-6ce4-4d90-a16f-504278b11021",
   "metadata": {},
   "source": [
    "## Numpy"
   ]
  },
  {
   "cell_type": "code",
   "execution_count": 4,
   "id": "9f6b53d9-9f9c-464f-a992-ead11990ede1",
   "metadata": {},
   "outputs": [
    {
     "name": "stdout",
     "output_type": "stream",
     "text": [
      "[1 2 3]\n",
      "1\n",
      "<class 'numpy.ndarray'>\n"
     ]
    }
   ],
   "source": [
    "import numpy as np\n",
    "arr = np.array([1,2,3])\n",
    "print(arr)\n",
    "print(arr.ndim)\n",
    "print(type(arr))"
   ]
  },
  {
   "cell_type": "markdown",
   "id": "b21be9f8-6629-48d5-a06b-82f19777202e",
   "metadata": {},
   "source": [
    "# zeros array"
   ]
  },
  {
   "cell_type": "code",
   "execution_count": 8,
   "id": "b79795b6-8eea-4157-9bf8-a7198951d2db",
   "metadata": {},
   "outputs": [
    {
     "data": {
      "text/plain": [
       "array([[0., 0., 0.],\n",
       "       [0., 0., 0.],\n",
       "       [0., 0., 0.]])"
      ]
     },
     "execution_count": 8,
     "metadata": {},
     "output_type": "execute_result"
    }
   ],
   "source": [
    "import numpy as np\n",
    "np.zeros((3,3))\n"
   ]
  },
  {
   "cell_type": "markdown",
   "id": "2640bf93-f708-4521-8f01-d16b85e4ac05",
   "metadata": {},
   "source": [
    "# ones array"
   ]
  },
  {
   "cell_type": "code",
   "execution_count": 11,
   "id": "e1c366b0-db55-488a-a702-997d62a140a1",
   "metadata": {},
   "outputs": [
    {
     "data": {
      "text/plain": [
       "array([[1., 1.],\n",
       "       [1., 1.],\n",
       "       [1., 1.]])"
      ]
     },
     "execution_count": 11,
     "metadata": {},
     "output_type": "execute_result"
    }
   ],
   "source": [
    "np.ones((3,2))"
   ]
  },
  {
   "cell_type": "code",
   "execution_count": 2,
   "id": "d1ee0e76-d097-4db3-a04a-86c88dc03328",
   "metadata": {},
   "outputs": [
    {
     "data": {
      "text/plain": [
       "array([[1, 1],\n",
       "       [1, 1],\n",
       "       [1, 1]])"
      ]
     },
     "execution_count": 2,
     "metadata": {},
     "output_type": "execute_result"
    }
   ],
   "source": [
    "#Specifying your data type\n",
    "import numpy as np\n",
    "np.ones((3,2), dtype=np.int64)"
   ]
  },
  {
   "cell_type": "markdown",
   "id": "ec0516fc-cc8a-458d-a967-df92feaeb171",
   "metadata": {},
   "source": [
    "# Arranging array "
   ]
  },
  {
   "cell_type": "code",
   "execution_count": 14,
   "id": "385d926e-059b-457e-8a61-4d13804b2ad1",
   "metadata": {},
   "outputs": [
    {
     "name": "stdout",
     "output_type": "stream",
     "text": [
      "[ 1  3  5  7  9 11 13 15 17 19]\n"
     ]
    }
   ],
   "source": [
    "# Arrange function\n",
    "arr = np.arange(1,20,2)\n",
    "print(arr)"
   ]
  },
  {
   "cell_type": "code",
   "execution_count": 2,
   "id": "3a7ebd37-dce0-4c32-a5bb-3d1770ef8cef",
   "metadata": {},
   "outputs": [
    {
     "data": {
      "text/plain": [
       "array([1, 1])"
      ]
     },
     "execution_count": 2,
     "metadata": {},
     "output_type": "execute_result"
    }
   ],
   "source": [
    "import numpy as np\n",
    "np.ones(2, dtype=np.int64)"
   ]
  },
  {
   "cell_type": "markdown",
   "id": "2736eb3e-ad22-4427-9c68-60877a1be6d9",
   "metadata": {},
   "source": [
    "# Identity matrix"
   ]
  },
  {
   "cell_type": "code",
   "execution_count": 17,
   "id": "8e5b0210-89e6-4533-8f7d-a3b9adb1c045",
   "metadata": {},
   "outputs": [
    {
     "data": {
      "text/plain": [
       "array([[1., 0., 0., 0., 0., 0., 0., 0., 0., 0.],\n",
       "       [0., 1., 0., 0., 0., 0., 0., 0., 0., 0.],\n",
       "       [0., 0., 1., 0., 0., 0., 0., 0., 0., 0.],\n",
       "       [0., 0., 0., 1., 0., 0., 0., 0., 0., 0.],\n",
       "       [0., 0., 0., 0., 1., 0., 0., 0., 0., 0.],\n",
       "       [0., 0., 0., 0., 0., 1., 0., 0., 0., 0.],\n",
       "       [0., 0., 0., 0., 0., 0., 1., 0., 0., 0.],\n",
       "       [0., 0., 0., 0., 0., 0., 0., 1., 0., 0.],\n",
       "       [0., 0., 0., 0., 0., 0., 0., 0., 1., 0.],\n",
       "       [0., 0., 0., 0., 0., 0., 0., 0., 0., 1.]])"
      ]
     },
     "execution_count": 17,
     "metadata": {},
     "output_type": "execute_result"
    }
   ],
   "source": [
    "# here we use np.eye()\n",
    "np.eye(10)"
   ]
  },
  {
   "cell_type": "markdown",
   "id": "52e7eada-0392-4f5e-80b6-a1a6aec58054",
   "metadata": {},
   "source": [
    "# Attributes "
   ]
  },
  {
   "cell_type": "markdown",
   "id": "9ee9c50e-cfa3-4c57-91d0-bd01e3824c69",
   "metadata": {},
   "source": [
    "## 1  .shape\n",
    "## 2  .size\n",
    "## 3  .ndim\n",
    "## 4  .dtype"
   ]
  },
  {
   "cell_type": "code",
   "execution_count": 21,
   "id": "12cecf12-bb9c-473a-953a-82fb1a6b1c44",
   "metadata": {},
   "outputs": [
    {
     "name": "stdout",
     "output_type": "stream",
     "text": [
      "(6,)\n",
      "(2, 3)\n"
     ]
    }
   ],
   "source": [
    "#shape\n",
    "Arr = np.array([1,2,3,4,5,6])\n",
    "Arr1 = np.array([[1,2,3],[4,5,6]])\n",
    "print(np.shape(Arr))\n",
    "print(np.shape(Arr1))"
   ]
  },
  {
   "cell_type": "code",
   "execution_count": 23,
   "id": "925a24f4-6865-4b50-902e-a423cb5fca52",
   "metadata": {},
   "outputs": [
    {
     "name": "stdout",
     "output_type": "stream",
     "text": [
      "6\n",
      "6\n"
     ]
    }
   ],
   "source": [
    "#size\n",
    "print(np.size(Arr))\n",
    "print(np.size(Arr1))"
   ]
  },
  {
   "cell_type": "code",
   "execution_count": 24,
   "id": "94a40243-053d-45d1-ba8f-b2b320386df5",
   "metadata": {},
   "outputs": [
    {
     "name": "stdout",
     "output_type": "stream",
     "text": [
      "1\n",
      "2\n"
     ]
    }
   ],
   "source": [
    "#.ndim\n",
    "print(Arr.ndim)\n",
    "print(Arr1.ndim)"
   ]
  },
  {
   "cell_type": "code",
   "execution_count": 25,
   "id": "4f67f7ef-691a-406f-8dc3-9ab7e0774edc",
   "metadata": {},
   "outputs": [
    {
     "name": "stdout",
     "output_type": "stream",
     "text": [
      "int64\n"
     ]
    }
   ],
   "source": [
    "#.dtype\n",
    "print(Arr.dtype)"
   ]
  },
  {
   "cell_type": "markdown",
   "id": "9251c903-ac67-4392-b481-983b87a1918a",
   "metadata": {},
   "source": [
    "# Fancing indexing"
   ]
  },
  {
   "cell_type": "code",
   "execution_count": 29,
   "id": "d1cef83a-4496-4f97-ab88-63103c052e6b",
   "metadata": {},
   "outputs": [
    {
     "name": "stdout",
     "output_type": "stream",
     "text": [
      "[50 30 40]\n",
      "[10 30 50]\n"
     ]
    }
   ],
   "source": [
    "arr = np.array([10,20,30,40,50,60,70])\n",
    "print(arr[[4,2,3]])\n",
    "print(arr[[0,2,4]])"
   ]
  },
  {
   "cell_type": "markdown",
   "id": "44dd9c99-d65e-4353-9f0e-0c00e29a4dc8",
   "metadata": {},
   "source": [
    " # Boolean Masking"
   ]
  },
  {
   "cell_type": "code",
   "execution_count": null,
   "id": "082f9218-fd5a-463b-a083-2c1bd3871aa3",
   "metadata": {},
   "outputs": [],
   "source": [
    "arr = np.array([10,20,30,40,50,60,70])\n",
    "print(arr[arr>20])\n",
    "print(arr[arr>50])"
   ]
  },
  {
   "cell_type": "markdown",
   "id": "4b2b0407-0311-4844-ac72-14ef6eecd556",
   "metadata": {},
   "source": [
    "# Reshape "
   ]
  },
  {
   "cell_type": "code",
   "execution_count": 30,
   "id": "4afdefd0-4f55-4cf9-884a-3258fa6e6f1a",
   "metadata": {},
   "outputs": [
    {
     "data": {
      "text/plain": [
       "array([[1, 2, 3],\n",
       "       [4, 5, 6]])"
      ]
     },
     "execution_count": 30,
     "metadata": {},
     "output_type": "execute_result"
    }
   ],
   "source": [
    "# reshape(row,column)\n",
    "Arr = np.array([1,2,3,4,5,6])\n",
    "print(Arr.reshape(2,3))\n"
   ]
  },
  {
   "cell_type": "code",
   "execution_count": 12,
   "id": "4a658f11-7aa7-4fe9-b31c-7dc08878e0b1",
   "metadata": {},
   "outputs": [
    {
     "name": "stdout",
     "output_type": "stream",
     "text": [
      "[51 26  2 50 63  8]  : This is copy of an array\n",
      "[51 26  2 50 63  8]  : This is the opens the view of an array\n"
     ]
    }
   ],
   "source": [
    "# In NumPy, flattening an array means converting a multi-dimensional array into a 1D array.\n",
    "\"\"\"\n",
    "✅ 1. Using flatten() method\n",
    "Returns a copy of the array, flattened.\n",
    "✅ 2. Using ravel() method\n",
    "Returns a view of the array whenever possible (more memory-efficient).\n",
    "\"\"\"\n",
    "import numpy as np\n",
    "Arr = np.array([51,26,2,50,63,8])\n",
    "flat_array = Arr.flatten()\n",
    "print(flat_array,\" : This is copy of an array\")\n",
    "vi = Arr.ravel()\n",
    "print(vi,\" : This is the opens the view of an array\")"
   ]
  },
  {
   "cell_type": "markdown",
   "id": "009b7bdc-b91a-4c2a-abfe-c95d7dc5f861",
   "metadata": {},
   "source": [
    "# Inserting an element in array "
   ]
  },
  {
   "cell_type": "code",
   "execution_count": 5,
   "id": "c966f002-d3c2-4bd8-a1d3-63abb67844f6",
   "metadata": {},
   "outputs": [
    {
     "name": "stdout",
     "output_type": "stream",
     "text": [
      "[100   6   9   5   4   6]\n",
      "........ [[2 1]\n",
      " [3 6]]\n",
      "[[2 5 1]\n",
      " [3 6 6]]\n"
     ]
    }
   ],
   "source": [
    "#np.insert(array,index,value,axis)\n",
    "#The original array is not modified; np.insert() returns a new array.\n",
    "\"\"\"\n",
    "📌 Simple Definition of axis:\n",
    "Axis 0 → Rows (think: vertical)\n",
    "\n",
    "Axis 1 → Columns (think: horizontal)\n",
    "\"\"\"\n",
    "arrr=np.array([6,9,5,4,6])\n",
    "print(np.insert(arrr,0,100)) # insert(array,index,number)\n",
    "arrr1 = np.array([[2,1],[3,6]])\n",
    "print(arrr1)\n",
    "ins = np.insert(arrr1,1,[5,6],axis=1)\n",
    "print(ins)"
   ]
  },
  {
   "cell_type": "markdown",
   "id": "fde19a46-9e30-4b4d-9111-f2d7b74504e3",
   "metadata": {},
   "source": [
    "# Random array"
   ]
  },
  {
   "cell_type": "code",
   "execution_count": 19,
   "id": "90872240-caa3-4dac-bfe1-90b817630deb",
   "metadata": {},
   "outputs": [
    {
     "name": "stdout",
     "output_type": "stream",
     "text": [
      "[[ 2 91 85 42 49]\n",
      " [36 52 43 67 38]\n",
      " [95 51 36 62 89]\n",
      " [96 96 88 79  1]\n",
      " [49 82 91 20 51]]\n"
     ]
    }
   ],
   "source": [
    "matrix = np.random.randint(1,100,size = (5,5))\n",
    "print(matrix)"
   ]
  },
  {
   "cell_type": "code",
   "execution_count": 7,
   "id": "164e0307-316d-4816-a016-533d303ea48e",
   "metadata": {},
   "outputs": [
    {
     "data": {
      "text/plain": [
       "array([[3, 0, 0, 1],\n",
       "       [2, 2, 0, 3]])"
      ]
     },
     "execution_count": 7,
     "metadata": {},
     "output_type": "execute_result"
    }
   ],
   "source": [
    "# we can use rng function\n",
    "# rng : random number generator\n",
    "import numpy as np\n",
    "rng = np.random.default_rng()\n",
    "rng.integers(5, size=(2, 4)) "
   ]
  },
  {
   "cell_type": "markdown",
   "id": "34ce911f-c2b2-4604-94dc-d077c7586357",
   "metadata": {},
   "source": [
    "# Array indexing"
   ]
  },
  {
   "cell_type": "code",
   "execution_count": 22,
   "id": "e2e3a0b5-ca6e-4751-a054-f122101f0119",
   "metadata": {},
   "outputs": [
    {
     "name": "stdout",
     "output_type": "stream",
     "text": [
      "1\n",
      "[6 9]\n"
     ]
    }
   ],
   "source": [
    "arr = np.array([1,3,5,6,9,78])\n",
    "print(arr[0])\n",
    "print(arr[3:5])"
   ]
  },
  {
   "cell_type": "code",
   "execution_count": 4,
   "id": "95a65b1b",
   "metadata": {},
   "outputs": [
    {
     "name": "stdout",
     "output_type": "stream",
     "text": [
      "[2 6 6]\n",
      "[3 5 9]\n"
     ]
    }
   ],
   "source": [
    "# indexing of 2d array\n",
    "import numpy as np\n",
    "ar = np.array([[1,2,3],[4,6,5],[5,6,9]])\n",
    "print(ar[:,1])\n",
    "print(ar[:,2])"
   ]
  },
  {
   "cell_type": "markdown",
   "id": "d65e36bd-2b04-4840-b5e2-f36b0be68909",
   "metadata": {},
   "source": [
    "# Indexing with np.where"
   ]
  },
  {
   "cell_type": "code",
   "execution_count": 23,
   "id": "e9a4b5b4-2402-4381-b3dd-03461747475c",
   "metadata": {},
   "outputs": [
    {
     "name": "stdout",
     "output_type": "stream",
     "text": [
      "['Small' 'Big' 'Big' 'Big']\n"
     ]
    }
   ],
   "source": [
    "#np.where(condition, value_if_true, value_if_false)\n",
    "import numpy as np\n",
    "\n",
    "arr = np.array([10, 25, 30, 45])\n",
    "result = np.where(arr > 20, 'Big', 'Small')\n",
    "print(result)\n"
   ]
  },
  {
   "cell_type": "code",
   "execution_count": 24,
   "id": "e44e36f5-a9ec-431d-bd3e-ae6522afde13",
   "metadata": {},
   "outputs": [
    {
     "name": "stdout",
     "output_type": "stream",
     "text": [
      "(array([1, 2, 3]),)\n"
     ]
    }
   ],
   "source": [
    "arr = np.array([10, 25, 30, 45])\n",
    "index = np.where(arr > 20)\n",
    "print(index)\n"
   ]
  },
  {
   "cell_type": "markdown",
   "id": "6cbca32f-8eb6-416c-bbec-5be28952eba9",
   "metadata": {},
   "source": [
    "# Adding, removing, and sorting elements"
   ]
  },
  {
   "cell_type": "code",
   "execution_count": 28,
   "id": "b72d374d-636e-4522-a572-7b0c9b339a5b",
   "metadata": {},
   "outputs": [
    {
     "data": {
      "text/plain": [
       "array([1, 2, 3, 4, 5, 6, 7, 8])"
      ]
     },
     "execution_count": 28,
     "metadata": {},
     "output_type": "execute_result"
    }
   ],
   "source": [
    "# np.sort()\n",
    "arr = np.array([2, 1, 5, 3, 7, 4, 6, 8])\n",
    "np.sort(arr)"
   ]
  },
  {
   "cell_type": "code",
   "execution_count": 30,
   "id": "4564835b-0a44-4b64-8f3b-7e2ada3da174",
   "metadata": {},
   "outputs": [
    {
     "data": {
      "text/plain": [
       "array([1, 2, 3, 4, 5, 6, 7, 8])"
      ]
     },
     "execution_count": 30,
     "metadata": {},
     "output_type": "execute_result"
    }
   ],
   "source": [
    "# np.concatenate()\n",
    "a = np.array([1, 2, 3, 4])\n",
    "b = np.array([5, 6, 7, 8])\n",
    "np.concatenate((a,b))"
   ]
  },
  {
   "cell_type": "code",
   "execution_count": 31,
   "id": "1fe6abf0-a9ef-44ed-89f5-a27044a18b05",
   "metadata": {},
   "outputs": [
    {
     "data": {
      "text/plain": [
       "array([[1, 2],\n",
       "       [3, 4],\n",
       "       [5, 6]])"
      ]
     },
     "execution_count": 31,
     "metadata": {},
     "output_type": "execute_result"
    }
   ],
   "source": [
    "x = np.array([[1, 2], [3, 4]])\n",
    "y = np.array([[5, 6]])\n",
    "np.concatenate((x, y), axis=0)"
   ]
  },
  {
   "cell_type": "code",
   "execution_count": 33,
   "id": "34848fc1-6622-4de9-a3a2-31055e1e3579",
   "metadata": {},
   "outputs": [
    {
     "data": {
      "text/plain": [
       "array([[1, 2, 5, 6],\n",
       "       [3, 4, 6, 5]])"
      ]
     },
     "execution_count": 33,
     "metadata": {},
     "output_type": "execute_result"
    }
   ],
   "source": [
    "x = np.array([[1, 2], [3, 4]])\n",
    "y = np.array([[5, 6],[6,5]])\n",
    "np.concatenate((x, y), axis=1)"
   ]
  },
  {
   "cell_type": "markdown",
   "id": "3145c071-8a7c-491d-93d4-31af3b20025d",
   "metadata": {},
   "source": [
    "# How to create an array from existing data"
   ]
  },
  {
   "cell_type": "code",
   "execution_count": 42,
   "id": "eea82d32-7a20-48cf-8d37-811986055eed",
   "metadata": {},
   "outputs": [
    {
     "name": "stdout",
     "output_type": "stream",
     "text": [
      "vstack  :\n",
      "[[1 1]\n",
      " [2 2]\n",
      " [3 3]\n",
      " [4 4]]\n",
      "hstack  :\n",
      "[[1 1 3 3]\n",
      " [2 2 4 4]]\n"
     ]
    }
   ],
   "source": [
    "# This section cover np.vstack(), np.hstack()\n",
    "a1 = np.array([[1, 1],\n",
    "               [2, 2]])\n",
    "\n",
    "a2 = np.array([[3, 3],\n",
    "               [4, 4]])\n",
    "print(\"vstack  :\")\n",
    "print(np.vstack((a1,a2)))\n",
    "print(\"hstack  :\")\n",
    "print(np.hstack((a1,a2)))\n"
   ]
  },
  {
   "cell_type": "code",
   "execution_count": 46,
   "id": "7181d07f-2da2-45cb-8f92-331c760f20ee",
   "metadata": {},
   "outputs": [
    {
     "data": {
      "text/plain": [
       "[array([[ 1,  2,  3,  4],\n",
       "        [13, 14, 15, 16]]),\n",
       " array([[ 5,  6,  7,  8],\n",
       "        [17, 18, 19, 20]]),\n",
       " array([[ 9, 10, 11, 12],\n",
       "        [21, 22, 23, 24]])]"
      ]
     },
     "execution_count": 46,
     "metadata": {},
     "output_type": "execute_result"
    }
   ],
   "source": [
    "# np.hsplit()\n",
    "# if you want to convert this array into 3 array\n",
    "x = np.arange(1, 25).reshape(2, 12)\n",
    "np.hsplit(x, 3)"
   ]
  },
  {
   "cell_type": "code",
   "execution_count": 50,
   "id": "f44fc84a-feb6-4218-8777-4e4ebbcc4c73",
   "metadata": {},
   "outputs": [
    {
     "name": "stdout",
     "output_type": "stream",
     "text": [
      "view\n",
      "[[ 1  2  3  4  5  6  7  8  9 10 11 12]\n",
      " [13 14 15 16 17 18 19 20 21 22 23 24]]\n",
      "copy\n",
      "[[ 1  2  3  4  5  6  7  8  9 10 11 12]\n",
      " [13 14 15 16 17 18 19 20 21 22 23 24]]\n"
     ]
    }
   ],
   "source": [
    "#.view(), copy()\n",
    "v = x.view()\n",
    "c = x.copy()\n",
    "print(\"view\")\n",
    "print(v)\n",
    "print(\"copy\")\n",
    "print(x)"
   ]
  },
  {
   "cell_type": "markdown",
   "id": "11e86f0d-79ff-4561-9020-02eac522f50a",
   "metadata": {},
   "source": [
    "# Basic array operations#"
   ]
  },
  {
   "cell_type": "code",
   "execution_count": 51,
   "id": "e00ecc29-21c9-4b69-b823-26223776daa6",
   "metadata": {},
   "outputs": [
    {
     "data": {
      "text/plain": [
       "array([2, 3])"
      ]
     },
     "execution_count": 51,
     "metadata": {},
     "output_type": "execute_result"
    }
   ],
   "source": [
    "data = np.array([1, 2])\n",
    "ones = np.ones(2, dtype=int)\n",
    "data + ones"
   ]
  },
  {
   "cell_type": "code",
   "execution_count": null,
   "id": "29127c5f-5cbb-4d41-aea1-c85da5f04696",
   "metadata": {},
   "outputs": [],
   "source": [
    "# Sum\n",
    "a = np.array([1, 2, 3, 4])\n",
    "a.sum()"
   ]
  },
  {
   "cell_type": "code",
   "execution_count": 55,
   "id": "edd1143d-fb86-4a5d-9f92-d9f4cddd16e8",
   "metadata": {},
   "outputs": [
    {
     "name": "stdout",
     "output_type": "stream",
     "text": [
      "When axis is 0\n",
      "[3 3]\n",
      "When axis is 1\n",
      "[2 4]\n"
     ]
    }
   ],
   "source": [
    "# Using Axis\n",
    "b = np.array([[1, 1], [2, 2]])\n",
    "print(\"When axis is 0\")\n",
    "print(b.sum(axis=0))\n",
    "print(\"When axis is 1\")\n",
    "print(b.sum(axis=1))"
   ]
  },
  {
   "cell_type": "code",
   "execution_count": 60,
   "id": "6059035c-ef86-4633-af8a-19753fb4e1dd",
   "metadata": {},
   "outputs": [
    {
     "name": "stdout",
     "output_type": "stream",
     "text": [
      "9\n",
      "1\n",
      "66\n"
     ]
    }
   ],
   "source": [
    "# Max\n",
    "arr = np.array([1,3,2,6,4,5,9,8,7,6,5,4,2,4])\n",
    "print(arr.max())\n",
    "print(arr.min())\n",
    "print(arr.sum())"
   ]
  },
  {
   "cell_type": "code",
   "execution_count": 63,
   "id": "e2f60fe0-0215-44f3-ac27-cb10b7dd7f59",
   "metadata": {},
   "outputs": [
    {
     "name": "stdout",
     "output_type": "stream",
     "text": [
      "[1 2 3]\n"
     ]
    }
   ],
   "source": [
    "#axis \n",
    "import numpy as np\n",
    "arr=np.array([[1,2,3],[4,5,6]])\n",
    "print(arr.min(axis = 0))\n",
    "\n"
   ]
  },
  {
   "cell_type": "code",
   "execution_count": 64,
   "id": "2e6f5de6-1bbb-49c4-b3fa-8090615cf5fd",
   "metadata": {},
   "outputs": [
    {
     "name": "stdout",
     "output_type": "stream",
     "text": [
      "[1 4]\n"
     ]
    }
   ],
   "source": [
    "import numpy as np\n",
    "arr=np.array([[1,2,3],[4,5,6]])\n",
    "print(arr.min(axis = 1))\n"
   ]
  },
  {
   "cell_type": "markdown",
   "id": "7b687203-c51b-4af8-83a4-88135c3c0130",
   "metadata": {},
   "source": [
    "# How to get unique items and counts"
   ]
  },
  {
   "cell_type": "code",
   "execution_count": 5,
   "id": "4d405262-1b68-486a-952c-1bd702162ee9",
   "metadata": {},
   "outputs": [
    {
     "name": "stdout",
     "output_type": "stream",
     "text": [
      "[11 12 13 14 15 16 17 18 19 20]\n"
     ]
    }
   ],
   "source": [
    "a = np.array([11, 11, 12, 13, 14, 15, 16, 17, 12, 13, 11, 14, 18, 19, 20])\n",
    "unique_values = np.unique(a)\n",
    "print(unique_values)"
   ]
  },
  {
   "cell_type": "code",
   "execution_count": 4,
   "id": "8d0d75ec-a9c4-45a9-a4e7-09037878c2df",
   "metadata": {},
   "outputs": [
    {
     "name": "stdout",
     "output_type": "stream",
     "text": [
      "[ 0  2  3  4  5  6  7 12 13 14]\n"
     ]
    }
   ],
   "source": [
    "\n",
    "\"\"\"\n",
    "To get the indices of unique values in a NumPy array (an array of first index positions of unique values in the array),\n",
    "just pass the return_index argument in np.unique() as well as your array.\n",
    "\"\"\"\n",
    "unique_values, indices_list = np.unique(a, return_index=True)\n",
    "print(indices_list)"
   ]
  },
  {
   "cell_type": "markdown",
   "id": "7d840f9c-cf37-46b6-b14f-3ee1421a1286",
   "metadata": {},
   "source": [
    "# Transposing and reshaping a matrix"
   ]
  },
  {
   "cell_type": "code",
   "execution_count": 66,
   "id": "98ed414e-fd78-4d65-acd0-d05b02c29815",
   "metadata": {},
   "outputs": [
    {
     "data": {
      "text/plain": [
       "array([[0, 1, 2],\n",
       "       [3, 4, 5]])"
      ]
     },
     "execution_count": 66,
     "metadata": {},
     "output_type": "execute_result"
    }
   ],
   "source": [
    "# arr.reshape()\n",
    "arr = np.arange(6).reshape((2, 3))\n",
    "arr"
   ]
  },
  {
   "cell_type": "code",
   "execution_count": 67,
   "id": "bd839a1f-6715-4cda-ac8b-1945ca1d8bf5",
   "metadata": {},
   "outputs": [
    {
     "data": {
      "text/plain": [
       "array([[0, 3],\n",
       "       [1, 4],\n",
       "       [2, 5]])"
      ]
     },
     "execution_count": 67,
     "metadata": {},
     "output_type": "execute_result"
    }
   ],
   "source": [
    "# arr.transpose(), arr.T\n",
    "arr.transpose()"
   ]
  },
  {
   "cell_type": "markdown",
   "id": "8667b3ba-e02c-4252-990a-7245b6c23a8e",
   "metadata": {},
   "source": [
    "# How to reverse an array"
   ]
  },
  {
   "cell_type": "code",
   "execution_count": 69,
   "id": "edb6fd18-3d25-41bd-8166-a881f14e5baf",
   "metadata": {},
   "outputs": [
    {
     "data": {
      "text/plain": [
       "array([8, 7, 6, 5, 4, 3, 2, 1])"
      ]
     },
     "execution_count": 69,
     "metadata": {},
     "output_type": "execute_result"
    }
   ],
   "source": [
    "# np.flip()\n",
    "arr = np.array([1, 2, 3, 4, 5, 6, 7, 8])\n",
    "np.flip(arr)"
   ]
  },
  {
   "cell_type": "code",
   "execution_count": 70,
   "id": "bedcccb1-0834-473a-be18-f39e082842df",
   "metadata": {},
   "outputs": [
    {
     "data": {
      "text/plain": [
       "array([[12, 11, 10,  9],\n",
       "       [ 8,  7,  6,  5],\n",
       "       [ 4,  3,  2,  1]])"
      ]
     },
     "execution_count": 70,
     "metadata": {},
     "output_type": "execute_result"
    }
   ],
   "source": [
    "arr_2d = np.array([[1, 2, 3, 4], [5, 6, 7, 8], [9, 10, 11, 12]])\n",
    "np.flip(arr_2d)"
   ]
  },
  {
   "cell_type": "code",
   "execution_count": 71,
   "id": "7f9e98e8-ea41-4946-843f-dbd38ef4e2d4",
   "metadata": {},
   "outputs": [
    {
     "name": "stdout",
     "output_type": "stream",
     "text": [
      "[[ 9 10 11 12]\n",
      " [ 5  6  7  8]\n",
      " [ 1  2  3  4]]\n"
     ]
    }
   ],
   "source": [
    "#You can easily reverse only the rows with:\n",
    "reversed_arr_rows = np.flip(arr_2d, axis=0)\n",
    "print(reversed_arr_rows)"
   ]
  },
  {
   "cell_type": "code",
   "execution_count": 72,
   "id": "ee1d5b27-f5c4-4f62-88ec-4a84ace6a874",
   "metadata": {},
   "outputs": [
    {
     "name": "stdout",
     "output_type": "stream",
     "text": [
      "[[ 4  3  2  1]\n",
      " [ 8  7  6  5]\n",
      " [12 11 10  9]]\n"
     ]
    }
   ],
   "source": [
    "#Or reverse only the columns with:\n",
    "reversed_arr_columns = np.flip(arr_2d, axis=1)\n",
    "print(reversed_arr_columns)"
   ]
  },
  {
   "cell_type": "code",
   "execution_count": 73,
   "id": "9637a3a6-243b-4671-ba43-55efae4a8f36",
   "metadata": {},
   "outputs": [
    {
     "name": "stdout",
     "output_type": "stream",
     "text": [
      "[[ 1  2  3  4]\n",
      " [ 8  7  6  5]\n",
      " [ 9 10 11 12]]\n"
     ]
    }
   ],
   "source": [
    "#You can also reverse the contents of only one column or row.\n",
    "#For example, you can reverse the contents of the row at index position 1 (the second row):\n",
    "arr_2d[1] = np.flip(arr_2d[1])\n",
    "print(arr_2d)"
   ]
  },
  {
   "cell_type": "code",
   "execution_count": 74,
   "id": "1618b39a-d396-4164-a46f-65593b42e7f0",
   "metadata": {},
   "outputs": [
    {
     "name": "stdout",
     "output_type": "stream",
     "text": [
      "[[ 1 10  3  4]\n",
      " [ 8  7  6  5]\n",
      " [ 9  2 11 12]]\n"
     ]
    }
   ],
   "source": [
    "#You can also reverse the column at index position 1 (the second column):\n",
    "arr_2d[:,1] = np.flip(arr_2d[:,1])\n",
    "print(arr_2d)"
   ]
  },
  {
   "cell_type": "code",
   "execution_count": null,
   "id": "f7b2f928",
   "metadata": {},
   "outputs": [],
   "source": []
  },
  {
   "cell_type": "markdown",
   "id": "e92fda09",
   "metadata": {},
   "source": [
    "# Broadcasting"
   ]
  },
  {
   "cell_type": "markdown",
   "id": "260f430e",
   "metadata": {},
   "source": []
  },
  {
   "cell_type": "code",
   "execution_count": 6,
   "id": "84afc2af",
   "metadata": {},
   "outputs": [
    {
     "data": {
      "text/plain": [
       "array([[20, 30, 40, 50]])"
      ]
     },
     "execution_count": 6,
     "metadata": {},
     "output_type": "execute_result"
    }
   ],
   "source": [
    "l = [10,20,30,40]\n",
    "arr = np.array([l])\n",
    "arr+10"
   ]
  },
  {
   "cell_type": "code",
   "execution_count": 7,
   "id": "98c1ee47",
   "metadata": {},
   "outputs": [
    {
     "data": {
      "text/plain": [
       "array([[11, 12, 13, 14, 15],\n",
       "       [16, 17, 18, 19, 20],\n",
       "       [21, 22, 23, 24, 25],\n",
       "       [26, 27, 28, 29, 30],\n",
       "       [31, 32, 33, 34, 35]])"
      ]
     },
     "execution_count": 7,
     "metadata": {},
     "output_type": "execute_result"
    }
   ],
   "source": [
    "\n",
    "ar1=np.arange(1,26).reshape(5,5)\n",
    "ar1+10"
   ]
  },
  {
   "cell_type": "code",
   "execution_count": 8,
   "id": "cce82e84",
   "metadata": {},
   "outputs": [
    {
     "data": {
      "text/plain": [
       "array([[ 2,  4,  6,  8, 10],\n",
       "       [12, 14, 16, 18, 20],\n",
       "       [22, 24, 26, 28, 30],\n",
       "       [32, 34, 36, 38, 40],\n",
       "       [42, 44, 46, 48, 50]])"
      ]
     },
     "execution_count": 8,
     "metadata": {},
     "output_type": "execute_result"
    }
   ],
   "source": [
    "ar1*2"
   ]
  },
  {
   "cell_type": "code",
   "execution_count": null,
   "id": "172b61a2",
   "metadata": {},
   "outputs": [],
   "source": []
  }
 ],
 "metadata": {
  "kernelspec": {
   "display_name": "Python 3",
   "language": "python",
   "name": "python3"
  },
  "language_info": {
   "codemirror_mode": {
    "name": "ipython",
    "version": 3
   },
   "file_extension": ".py",
   "mimetype": "text/x-python",
   "name": "python",
   "nbconvert_exporter": "python",
   "pygments_lexer": "ipython3",
   "version": "3.9.8"
  }
 },
 "nbformat": 4,
 "nbformat_minor": 5
}
