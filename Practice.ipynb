{
 "cells": [
  {
   "cell_type": "code",
   "execution_count": 1,
   "id": "ae1e1e5e-5526-4d26-a78e-62dcc185a73a",
   "metadata": {},
   "outputs": [],
   "source": [
    "import numpy as np"
   ]
  },
  {
   "cell_type": "code",
   "execution_count": 3,
   "id": "c8f24f5c-0e5f-49ea-81f7-754ad4640070",
   "metadata": {},
   "outputs": [],
   "source": [
    "import numpy as np\n",
    "\n",
    "# Columns: [Age, Math Marks, Science Marks]\n",
    "data = np.array([\n",
    "    [18, 85, 78],   # Student 1\n",
    "    [19, 92, 88],   # Student 2\n",
    "    [17, 76, 95],   # Student 3\n",
    "    [18, 65, 70],   # Student 4\n",
    "    [20, 90, 85]    # Student 5\n",
    "])"
   ]
  },
  {
   "cell_type": "code",
   "execution_count": 4,
   "id": "d5ddf175-1cd4-4743-86c0-5069c08134d5",
   "metadata": {},
   "outputs": [
    {
     "data": {
      "text/plain": [
       "(5, 3)"
      ]
     },
     "execution_count": 4,
     "metadata": {},
     "output_type": "execute_result"
    }
   ],
   "source": [
    "#Get the shape of the matrix.\n",
    "s.shape\n",
    "data.shape "
   ]
  },
  {
   "cell_type": "code",
   "execution_count": 5,
   "id": "63bf36b2-4c1d-4369-b2b1-c28a60df381d",
   "metadata": {},
   "outputs": [
    {
     "data": {
      "text/plain": [
       "np.float64(18.4)"
      ]
     },
     "execution_count": 5,
     "metadata": {},
     "output_type": "execute_result"
    }
   ],
   "source": [
    "#Find the average age of students.\n",
    "np.mean(data[:,0])"
   ]
  },
  {
   "cell_type": "code",
   "execution_count": 6,
   "id": "1dde7f43-28d8-46d5-a54c-175b169d0a73",
   "metadata": {},
   "outputs": [
    {
     "name": "stdout",
     "output_type": "stream",
     "text": [
      "[85 92 76 65 90]\n"
     ]
    }
   ],
   "source": [
    "#Extract Math marks of all students.\n",
    "math_marks = data[:,1]\n",
    "print(math_marks)"
   ]
  },
  {
   "cell_type": "code",
   "execution_count": 7,
   "id": "de0585f2-9045-4d50-b853-32e352252487",
   "metadata": {},
   "outputs": [
    {
     "data": {
      "text/plain": [
       "np.int64(95)"
      ]
     },
     "execution_count": 7,
     "metadata": {},
     "output_type": "execute_result"
    }
   ],
   "source": [
    "#Find the highest Science mark.\n",
    "highest_Science_mark = data[:,2]\n",
    "np.max(highest_Science_mark)"
   ]
  },
  {
   "cell_type": "code",
   "execution_count": 8,
   "id": "c7a89689-3742-40ce-bd7c-bf10e15aa987",
   "metadata": {},
   "outputs": [
    {
     "data": {
      "text/plain": [
       "array([[19, 92, 88]])"
      ]
     },
     "execution_count": 8,
     "metadata": {},
     "output_type": "execute_result"
    }
   ],
   "source": [
    "#Get details of the student who scored more than 90 in Math.\n",
    "data[data[:,1]>90]"
   ]
  },
  {
   "cell_type": "code",
   "execution_count": 9,
   "id": "07f32fd3-94fd-4c62-ad4d-d9fff8b101db",
   "metadata": {},
   "outputs": [
    {
     "data": {
      "text/plain": [
       "array([[18, 90, 78],\n",
       "       [19, 97, 88],\n",
       "       [17, 81, 95],\n",
       "       [18, 70, 70],\n",
       "       [20, 95, 85]])"
      ]
     },
     "execution_count": 9,
     "metadata": {},
     "output_type": "execute_result"
    }
   ],
   "source": [
    "#Increase Math marks of all students by 5.\n",
    "data[:,1]+=5\n",
    "data"
   ]
  },
  {
   "cell_type": "code",
   "execution_count": 10,
   "id": "ca1bfe45-9a78-48a1-82a7-0d522b0f044b",
   "metadata": {},
   "outputs": [
    {
     "name": "stdout",
     "output_type": "stream",
     "text": [
      "[[18 90 78]\n",
      " [19 97 88]\n",
      " [17 81 95]\n",
      " [18 70 70]\n",
      " [20 95 85]]\n"
     ]
    }
   ],
   "source": [
    "print(data)"
   ]
  },
  {
   "cell_type": "code",
   "execution_count": 11,
   "id": "b3ed9488-1129-4abc-bbbe-106f6781e828",
   "metadata": {},
   "outputs": [
    {
     "data": {
      "text/plain": [
       "1"
      ]
     },
     "execution_count": 11,
     "metadata": {},
     "output_type": "execute_result"
    }
   ],
   "source": [
    "#Find how many students are younger than 19.\n",
    "c=len([data[data[:,0]<19]])\n",
    "c"
   ]
  },
  {
   "cell_type": "code",
   "execution_count": 12,
   "id": "7dacc829-5b6d-4766-989d-45fd600aa269",
   "metadata": {},
   "outputs": [
    {
     "name": "stdout",
     "output_type": "stream",
     "text": [
      "Avg marks in science 86.6\n",
      "Avg marks in maths 83.2\n"
     ]
    }
   ],
   "source": [
    "#Calculate the average marks in each subject (column-wise mean).\n",
    "math_marks = data[:,1]\n",
    "Science_mark = data[:,2]\n",
    "mathmean = np.mean(math_marks)\n",
    "sciencemean = np.mean(Science_mark)\n",
    "print(f\"Avg marks in science {mathmean}\")\n",
    "print(f\"Avg marks in maths {sciencemean}\")"
   ]
  },
  {
   "cell_type": "code",
   "execution_count": 13,
   "id": "ffa843ac-ef9f-4b38-8e0b-c6aee6fd5445",
   "metadata": {},
   "outputs": [
    {
     "data": {
      "text/plain": [
       "array([[19, 97, 88],\n",
       "       [17, 81, 95],\n",
       "       [20, 95, 85]])"
      ]
     },
     "execution_count": 13,
     "metadata": {},
     "output_type": "execute_result"
    }
   ],
   "source": [
    "#Get data of students who scored at least 80 in both subjects.\n",
    "data[(data[:,1] >=80) & (data[:,2] >=80)]"
   ]
  },
  {
   "cell_type": "code",
   "execution_count": 14,
   "id": "b43fa493-1283-4710-9f2e-a5a77bc34596",
   "metadata": {},
   "outputs": [
    {
     "data": {
      "text/plain": [
       "array([[18, 90, 78],\n",
       "       [19, 97, 88],\n",
       "       [17, 81, 95],\n",
       "       [18, 70,  0],\n",
       "       [20, 95, 85]])"
      ]
     },
     "execution_count": 14,
     "metadata": {},
     "output_type": "execute_result"
    }
   ],
   "source": [
    "#Replace all Science marks < 75 with 0.\n",
    "data[:,2][data[:,2]<75]=0\n",
    "data\n"
   ]
  }
 ],
 "metadata": {
  "kernelspec": {
   "display_name": "Python 3 (ipykernel)",
   "language": "python",
   "name": "python3"
  },
  "language_info": {
   "codemirror_mode": {
    "name": "ipython",
    "version": 3
   },
   "file_extension": ".py",
   "mimetype": "text/x-python",
   "name": "python",
   "nbconvert_exporter": "python",
   "pygments_lexer": "ipython3",
   "version": "3.9.8"
  }
 },
 "nbformat": 4,
 "nbformat_minor": 5
}
